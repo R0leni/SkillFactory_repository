{
 "cells": [
  {
   "cell_type": "code",
   "execution_count": 64,
   "metadata": {},
   "outputs": [
    {
     "name": "stdout",
     "output_type": "stream",
     "text": [
      "Ваш алгоритм угадывает число в среднем за 5 попыток\n"
     ]
    },
    {
     "data": {
      "text/plain": [
       "5"
      ]
     },
     "execution_count": 64,
     "metadata": {},
     "output_type": "execute_result"
    }
   ],
   "source": [
    "def game_core(number):\n",
    "    '''Сначала устанавливаем число из середины диапазона и границы диапазона,\n",
    "        затем сужаем диапазон в зависимости от того, больше или меньше предпологаемое число заданного.\n",
    "        Предполагаемое число задаем в середине нового суженного диапазона.\n",
    "        Функция принимает загаданное число и возвращает число попыток'''\n",
    "    \n",
    "    predict = 50\n",
    "    predict_range = [1,101]\n",
    "    count = 1\n",
    "    while number != predict:\n",
    "        count+=1\n",
    "        if predict < number: \n",
    "            predict_range[0] = predict\n",
    "            predict = (predict_range[0]+predict_range[1]) // 2\n",
    "        else:\n",
    "            predict_range[1] = predict  \n",
    "            predict = (predict_range[0]+predict_range[1]) // 2\n",
    "            \n",
    "    return(count) # выход из цикла, если угадали\n",
    "\n",
    "\n",
    "def score_game(game_core):\n",
    "    '''Запускаем игру 1000 раз, чтобы узнать, как быстро игра угадывает число'''\n",
    "    \n",
    "    count_ls = []\n",
    "    np.random.seed(1)  # фиксируем RANDOM SEED, чтобы ваш эксперимент был воспроизводим!\n",
    "    random_array = np.random.randint(1,101, size=(1000))\n",
    "    for number in random_array:\n",
    "        count_ls.append(game_core(number))\n",
    "    score = int(np.mean(count_ls))\n",
    "    print(f\"Ваш алгоритм угадывает число в среднем за {score} попыток\")\n",
    "    \n",
    "    return(score)\n",
    "\n",
    "\n",
    "# запускаем\n",
    "score_game(game_core)"
   ]
  },
  {
   "cell_type": "code",
   "execution_count": null,
   "metadata": {},
   "outputs": [],
   "source": []
  }
 ],
 "metadata": {
  "kernelspec": {
   "display_name": "Python 3",
   "language": "python",
   "name": "python3"
  },
  "language_info": {
   "codemirror_mode": {
    "name": "ipython",
    "version": 3
   },
   "file_extension": ".py",
   "mimetype": "text/x-python",
   "name": "python",
   "nbconvert_exporter": "python",
   "pygments_lexer": "ipython3",
   "version": "3.8.3"
  }
 },
 "nbformat": 4,
 "nbformat_minor": 4
}
